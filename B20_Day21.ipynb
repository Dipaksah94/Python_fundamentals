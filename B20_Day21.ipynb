{
 "cells": [
  {
   "cell_type": "code",
   "execution_count": null,
   "metadata": {},
   "outputs": [],
   "source": [
    "Introduction of file handling in python:"
   ]
  },
  {
   "cell_type": "code",
   "execution_count": null,
   "metadata": {},
   "outputs": [],
   "source": [
    "Reading the files in python:"
   ]
  },
  {
   "cell_type": "code",
   "execution_count": 2,
   "metadata": {},
   "outputs": [
    {
     "name": "stdout",
     "output_type": "stream",
     "text": [
      "123\n",
      "456\n",
      "789\n",
      "987\n",
      "543\n",
      "\n"
     ]
    }
   ],
   "source": [
    "with open('Digits_B20.txt') as file_object:\n",
    "    contents = file_object.read()\n",
    "print(contents)    "
   ]
  },
  {
   "cell_type": "code",
   "execution_count": null,
   "metadata": {},
   "outputs": [],
   "source": [
    "#how to read the file line by line:"
   ]
  },
  {
   "cell_type": "code",
   "execution_count": 4,
   "metadata": {},
   "outputs": [
    {
     "name": "stdout",
     "output_type": "stream",
     "text": [
      "123\n",
      "\n",
      "456\n",
      "\n",
      "789\n",
      "\n",
      "987\n",
      "\n",
      "543\n",
      "\n"
     ]
    }
   ],
   "source": [
    "filename = 'Digits_B20.txt'\n",
    "\n",
    "with open(filename) as file_object:\n",
    "    for line in file_object:\n",
    "        print(line)"
   ]
  },
  {
   "cell_type": "code",
   "execution_count": null,
   "metadata": {},
   "outputs": [],
   "source": [
    "#writing the file in python:"
   ]
  },
  {
   "cell_type": "code",
   "execution_count": 9,
   "metadata": {},
   "outputs": [],
   "source": [
    "filename = 'Blank_B20.txt'\n",
    "\n",
    "with open(filename, 'w') as file_object:\n",
    "     file_object.write('I love to code in python.\\n')\n",
    "     file_object.write('Python has simple syntaxes.\\n')\n",
    "        "
   ]
  },
  {
   "cell_type": "code",
   "execution_count": 10,
   "metadata": {},
   "outputs": [
    {
     "name": "stdout",
     "output_type": "stream",
     "text": [
      "I love to code in python.\n",
      "Python has simple syntaxes.\n",
      "\n"
     ]
    }
   ],
   "source": [
    "with open('Blank_B20.txt') as file_object:\n",
    "    contents =  file_object.read()\n",
    "print(contents)    "
   ]
  },
  {
   "cell_type": "code",
   "execution_count": null,
   "metadata": {},
   "outputs": [],
   "source": [
    "#appending the data to the file."
   ]
  },
  {
   "cell_type": "code",
   "execution_count": 5,
   "metadata": {},
   "outputs": [],
   "source": [
    "filename= 'Blank_B20.txt'\n",
    "with open(filename,'a') as file_object:\n",
    "    file_object.write('we are learning file handling in python.\\n')"
   ]
  },
  {
   "cell_type": "code",
   "execution_count": 6,
   "metadata": {},
   "outputs": [
    {
     "name": "stdout",
     "output_type": "stream",
     "text": [
      "we are learning file handling in python.\n",
      "\n"
     ]
    }
   ],
   "source": [
    "with open('Blank_B20.txt') as file_object:\n",
    "    contents= file_object.read()\n",
    "print(contents)    "
   ]
  },
  {
   "cell_type": "code",
   "execution_count": 11,
   "metadata": {},
   "outputs": [],
   "source": [
    "filename = 'Blank_B20.txt'\n",
    "\n",
    "with open(filename, 'a') as file_object:\n",
    "    file_object.write('We are learning file handling in python.\\n')"
   ]
  },
  {
   "cell_type": "code",
   "execution_count": 12,
   "metadata": {},
   "outputs": [
    {
     "name": "stdout",
     "output_type": "stream",
     "text": [
      "I love to code in python.\n",
      "Python has simple syntaxes.\n",
      "We are learning file handling in python.\n",
      "\n"
     ]
    }
   ],
   "source": [
    "with open('Blank_B20.txt') as file_object:\n",
    "    contents= file_object.read()\n",
    "print(contents)    "
   ]
  },
  {
   "cell_type": "code",
   "execution_count": 13,
   "metadata": {},
   "outputs": [],
   "source": [
    "filename = 'Blank_B20.txt'\n",
    "\n",
    "with open(filename, 'w') as file_object:\n",
    "    file_object.write('The file content has been changed.\\n')"
   ]
  },
  {
   "cell_type": "code",
   "execution_count": 14,
   "metadata": {},
   "outputs": [
    {
     "name": "stdout",
     "output_type": "stream",
     "text": [
      "The file content has been changed.\n",
      "\n"
     ]
    }
   ],
   "source": [
    "with open('Blank_B20.txt') as file_object:\n",
    "    contents= file_object.read()\n",
    "print(contents) "
   ]
  },
  {
   "cell_type": "code",
   "execution_count": 16,
   "metadata": {},
   "outputs": [],
   "source": [
    "filename = 'Blank_B20.txt'\n",
    "\n",
    "with open(filename,'a') as file_object:\n",
    "    file_object.write('we are learning file handling in python.\\n')"
   ]
  },
  {
   "cell_type": "code",
   "execution_count": 17,
   "metadata": {},
   "outputs": [
    {
     "name": "stdout",
     "output_type": "stream",
     "text": [
      "The file content has been changed.\n",
      "we are learning file handling in python.\n",
      "\n"
     ]
    }
   ],
   "source": [
    "with open('Blank_B20.txt') as file_object:\n",
    "    contents= file_object.read()\n",
    "print(contents) "
   ]
  },
  {
   "cell_type": "code",
   "execution_count": null,
   "metadata": {},
   "outputs": [],
   "source": []
  }
 ],
 "metadata": {
  "kernelspec": {
   "display_name": "Python 3",
   "language": "python",
   "name": "python3"
  },
  "language_info": {
   "codemirror_mode": {
    "name": "ipython",
    "version": 3
   },
   "file_extension": ".py",
   "mimetype": "text/x-python",
   "name": "python",
   "nbconvert_exporter": "python",
   "pygments_lexer": "ipython3",
   "version": "3.7.6"
  }
 },
 "nbformat": 4,
 "nbformat_minor": 4
}
