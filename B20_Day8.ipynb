{
 "cells": [
  {
   "cell_type": "code",
   "execution_count": 1,
   "metadata": {},
   "outputs": [],
   "source": [
    "my_students = ['dipak','adarsh','akshay','kalyani','rafat','tasmiya']"
   ]
  },
  {
   "cell_type": "code",
   "execution_count": 2,
   "metadata": {},
   "outputs": [],
   "source": [
    "#req: create a for loop\n",
    "\n",
    "#General syntax of a for loop\n",
    "#for tempvar in mainvar:\n",
    "   #print(tempvar)\n"
   ]
  },
  {
   "cell_type": "code",
   "execution_count": 6,
   "metadata": {},
   "outputs": [
    {
     "name": "stdout",
     "output_type": "stream",
     "text": [
      "keep up the good work, Dipak\n",
      "I am looking for all of your practice file of today, Dipak\n",
      "keep up the good work, Adarsh\n",
      "I am looking for all of your practice file of today, Adarsh\n",
      "keep up the good work, Akshay\n",
      "I am looking for all of your practice file of today, Akshay\n",
      "keep up the good work, Kalyani\n",
      "I am looking for all of your practice file of today, Kalyani\n",
      "keep up the good work, Rafat\n",
      "I am looking for all of your practice file of today, Rafat\n",
      "keep up the good work, Tasmiya\n",
      "I am looking for all of your practice file of today, Tasmiya\n"
     ]
    }
   ],
   "source": [
    "for students in my_students:\n",
    "    print(f\"keep up the good work, {students.title()}\")\n",
    "    print(f\"I am looking for all of your practice file of today, {students.title()}\")"
   ]
  },
  {
   "cell_type": "code",
   "execution_count": 5,
   "metadata": {},
   "outputs": [
    {
     "name": "stdout",
     "output_type": "stream",
     "text": [
      "keep up the good work, Dipak\n",
      "I am looking for all of your practice file of today, Dipak.\n",
      "\n",
      "keep up the good work, Adarsh\n",
      "I am looking for all of your practice file of today, Adarsh.\n",
      "\n",
      "keep up the good work, Akshay\n",
      "I am looking for all of your practice file of today, Akshay.\n",
      "\n",
      "keep up the good work, Kalyani\n",
      "I am looking for all of your practice file of today, Kalyani.\n",
      "\n",
      "keep up the good work, Rafat\n",
      "I am looking for all of your practice file of today, Rafat.\n",
      "\n",
      "keep up the good work, Tasmiya\n",
      "I am looking for all of your practice file of today, Tasmiya.\n",
      "\n"
     ]
    }
   ],
   "source": [
    "for students in my_students:\n",
    "    print(f\"keep up the good work, {students.title()}\")\n",
    "    print(f\"I am looking for all of your practice file of today, {students.title()}.\\n\")"
   ]
  },
  {
   "cell_type": "code",
   "execution_count": null,
   "metadata": {},
   "outputs": [],
   "source": [
    "#enhancement of the code..!!"
   ]
  },
  {
   "cell_type": "code",
   "execution_count": 12,
   "metadata": {},
   "outputs": [
    {
     "name": "stdout",
     "output_type": "stream",
     "text": [
      "keep up the good work, Dipak\n",
      "I am looking for all of your practice file of today, Dipak.\n",
      "\n",
      "Thank you all for joining in the python training sessions!!\n",
      "keep up the good work, Adarsh\n",
      "I am looking for all of your practice file of today, Adarsh.\n",
      "\n",
      "Thank you all for joining in the python training sessions!!\n",
      "keep up the good work, Akshay\n",
      "I am looking for all of your practice file of today, Akshay.\n",
      "\n",
      "Thank you all for joining in the python training sessions!!\n",
      "keep up the good work, Kalyani\n",
      "I am looking for all of your practice file of today, Kalyani.\n",
      "\n",
      "Thank you all for joining in the python training sessions!!\n",
      "keep up the good work, Rafat\n",
      "I am looking for all of your practice file of today, Rafat.\n",
      "\n",
      "Thank you all for joining in the python training sessions!!\n",
      "keep up the good work, Tasmiya\n",
      "I am looking for all of your practice file of today, Tasmiya.\n",
      "\n",
      "Thank you all for joining in the python training sessions!!\n"
     ]
    }
   ],
   "source": [
    "for students in my_students:\n",
    "    print(f\"keep up the good work, {students.title()}\")\n",
    "    print(f\"I am looking for all of your practice file of today, {students.title()}.\\n\")\n",
    "    print('Thank you all for joining in the python training sessions!!')   "
   ]
  },
  {
   "cell_type": "code",
   "execution_count": null,
   "metadata": {},
   "outputs": [],
   "source": []
  },
  {
   "cell_type": "code",
   "execution_count": 13,
   "metadata": {},
   "outputs": [
    {
     "name": "stdout",
     "output_type": "stream",
     "text": [
      "['dipak', 'adarsh', 'akshay', 'kalyani', 'rafat', 'tasmiya']\n"
     ]
    }
   ],
   "source": [
    "print(my_students) "
   ]
  },
  {
   "cell_type": "code",
   "execution_count": null,
   "metadata": {},
   "outputs": [],
   "source": [
    "req: to get akshay name on the output"
   ]
  },
  {
   "cell_type": "code",
   "execution_count": 14,
   "metadata": {},
   "outputs": [
    {
     "name": "stdout",
     "output_type": "stream",
     "text": [
      "akshay\n"
     ]
    }
   ],
   "source": [
    "print(my_students[2])"
   ]
  },
  {
   "cell_type": "code",
   "execution_count": 15,
   "metadata": {},
   "outputs": [
    {
     "name": "stdout",
     "output_type": "stream",
     "text": [
      "tasmiya\n"
     ]
    }
   ],
   "source": [
    "print(my_students[5])"
   ]
  },
  {
   "cell_type": "code",
   "execution_count": null,
   "metadata": {},
   "outputs": [],
   "source": [
    "indexing -----> 0,1,2,3......!"
   ]
  },
  {
   "cell_type": "code",
   "execution_count": null,
   "metadata": {},
   "outputs": [],
   "source": [
    "introduction to negative indexing\n",
    "\n",
    "-1,-2,-3,-4......."
   ]
  },
  {
   "cell_type": "code",
   "execution_count": null,
   "metadata": {},
   "outputs": [],
   "source": []
  },
  {
   "cell_type": "code",
   "execution_count": 16,
   "metadata": {},
   "outputs": [
    {
     "name": "stdout",
     "output_type": "stream",
     "text": [
      "tasmiya\n"
     ]
    }
   ],
   "source": [
    "print(my_students[-1])"
   ]
  },
  {
   "cell_type": "code",
   "execution_count": 17,
   "metadata": {},
   "outputs": [
    {
     "name": "stdout",
     "output_type": "stream",
     "text": [
      "kalyani\n"
     ]
    }
   ],
   "source": [
    "print(my_students[-3])"
   ]
  },
  {
   "cell_type": "code",
   "execution_count": null,
   "metadata": {},
   "outputs": [],
   "source": [
    "How to print the list in a reverse order?"
   ]
  },
  {
   "cell_type": "code",
   "execution_count": 18,
   "metadata": {},
   "outputs": [
    {
     "name": "stdout",
     "output_type": "stream",
     "text": [
      "['dipak', 'adarsh', 'akshay', 'kalyani', 'rafat', 'tasmiya']\n"
     ]
    }
   ],
   "source": [
    "print(my_students)"
   ]
  },
  {
   "cell_type": "code",
   "execution_count": null,
   "metadata": {},
   "outputs": [],
   "source": [
    "req: to print the entire list in a reverse order.....!"
   ]
  },
  {
   "cell_type": "code",
   "execution_count": 19,
   "metadata": {},
   "outputs": [
    {
     "name": "stdout",
     "output_type": "stream",
     "text": [
      "['tasmiya', 'rafat', 'kalyani', 'akshay', 'adarsh', 'dipak']\n"
     ]
    }
   ],
   "source": [
    "print(my_students[::-1])   #startvalue:stopvalue:-1****"
   ]
  },
  {
   "cell_type": "code",
   "execution_count": null,
   "metadata": {},
   "outputs": [],
   "source": []
  },
  {
   "cell_type": "code",
   "execution_count": null,
   "metadata": {},
   "outputs": [],
   "source": [
    "introduction to Zen of python:"
   ]
  },
  {
   "cell_type": "code",
   "execution_count": 20,
   "metadata": {},
   "outputs": [
    {
     "name": "stdout",
     "output_type": "stream",
     "text": [
      "The Zen of Python, by Tim Peters\n",
      "\n",
      "Beautiful is better than ugly.\n",
      "Explicit is better than implicit.\n",
      "Simple is better than complex.\n",
      "Complex is better than complicated.\n",
      "Flat is better than nested.\n",
      "Sparse is better than dense.\n",
      "Readability counts.\n",
      "Special cases aren't special enough to break the rules.\n",
      "Although practicality beats purity.\n",
      "Errors should never pass silently.\n",
      "Unless explicitly silenced.\n",
      "In the face of ambiguity, refuse the temptation to guess.\n",
      "There should be one-- and preferably only one --obvious way to do it.\n",
      "Although that way may not be obvious at first unless you're Dutch.\n",
      "Now is better than never.\n",
      "Although never is often better than *right* now.\n",
      "If the implementation is hard to explain, it's a bad idea.\n",
      "If the implementation is easy to explain, it may be a good idea.\n",
      "Namespaces are one honking great idea -- let's do more of those!\n"
     ]
    }
   ],
   "source": [
    "import this"
   ]
  },
  {
   "cell_type": "code",
   "execution_count": null,
   "metadata": {},
   "outputs": [],
   "source": []
  },
  {
   "cell_type": "code",
   "execution_count": null,
   "metadata": {},
   "outputs": [],
   "source": [
    "#how to find the length of the list:"
   ]
  },
  {
   "cell_type": "code",
   "execution_count": 21,
   "metadata": {},
   "outputs": [
    {
     "data": {
      "text/plain": [
       "['dipak', 'adarsh', 'akshay', 'kalyani', 'rafat', 'tasmiya']"
      ]
     },
     "execution_count": 21,
     "metadata": {},
     "output_type": "execute_result"
    }
   ],
   "source": [
    "my_students"
   ]
  },
  {
   "cell_type": "code",
   "execution_count": 22,
   "metadata": {},
   "outputs": [
    {
     "data": {
      "text/plain": [
       "6"
      ]
     },
     "execution_count": 22,
     "metadata": {},
     "output_type": "execute_result"
    }
   ],
   "source": [
    "len(my_students)  #len is the method we have to use"
   ]
  },
  {
   "cell_type": "code",
   "execution_count": null,
   "metadata": {},
   "outputs": [],
   "source": []
  },
  {
   "cell_type": "code",
   "execution_count": null,
   "metadata": {},
   "outputs": [],
   "source": []
  },
  {
   "cell_type": "code",
   "execution_count": null,
   "metadata": {},
   "outputs": [],
   "source": []
  },
  {
   "cell_type": "code",
   "execution_count": null,
   "metadata": {},
   "outputs": [],
   "source": []
  }
 ],
 "metadata": {
  "kernelspec": {
   "display_name": "Python 3",
   "language": "python",
   "name": "python3"
  },
  "language_info": {
   "codemirror_mode": {
    "name": "ipython",
    "version": 3
   },
   "file_extension": ".py",
   "mimetype": "text/x-python",
   "name": "python",
   "nbconvert_exporter": "python",
   "pygments_lexer": "ipython3",
   "version": "3.7.6"
  }
 },
 "nbformat": 4,
 "nbformat_minor": 4
}
